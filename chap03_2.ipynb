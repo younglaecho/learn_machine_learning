{
  "nbformat": 4,
  "nbformat_minor": 0,
  "metadata": {
    "colab": {
      "name": "\bchap03_2.ipynb",
      "provenance": [],
      "collapsed_sections": [],
      "authorship_tag": "ABX9TyNJYkAQIt2cnYkkCkXMIGaz",
      "include_colab_link": true
    },
    "kernelspec": {
      "name": "python3",
      "display_name": "Python 3"
    },
    "language_info": {
      "name": "python"
    }
  },
  "cells": [
    {
      "cell_type": "markdown",
      "metadata": {
        "id": "view-in-github",
        "colab_type": "text"
      },
      "source": [
        "<a href=\"https://colab.research.google.com/github/younglaecho/learn_machine_learning/blob/main/%08chap03_2.ipynb\" target=\"_parent\"><img src=\"https://colab.research.google.com/assets/colab-badge.svg\" alt=\"Open In Colab\"/></a>"
      ]
    },
    {
      "cell_type": "markdown",
      "source": [
        "## 선형회귀"
      ],
      "metadata": {
        "id": "t3sk5fhbdK6a"
      }
    },
    {
      "cell_type": "code",
      "source": [
        "import numpy as np\n",
        "perch_length = np.array([8.4, 13.7, 15.0, 16.2, 17.4, 18.0, 18.7, 19.0, 19.6, 20.0, 21.0,\n",
        "       21.0, 21.0, 21.3, 22.0, 22.0, 22.0, 22.0, 22.0, 22.5, 22.5, 22.7,\n",
        "       23.0, 23.5, 24.0, 24.0, 24.6, 25.0, 25.6, 26.5, 27.3, 27.5, 27.5,\n",
        "       27.5, 28.0, 28.7, 30.0, 32.8, 34.5, 35.0, 36.5, 36.0, 37.0, 37.0,\n",
        "       39.0, 39.0, 39.0, 40.0, 40.0, 40.0, 40.0, 42.0, 43.0, 43.0, 43.5,\n",
        "       44.0])\n",
        "perch_weight = np.array([5.9, 32.0, 40.0, 51.5, 70.0, 100.0, 78.0, 80.0, 85.0, 85.0, 110.0,\n",
        "       115.0, 125.0, 130.0, 120.0, 120.0, 130.0, 135.0, 110.0, 130.0,\n",
        "       150.0, 145.0, 150.0, 170.0, 225.0, 145.0, 188.0, 180.0, 197.0,\n",
        "       218.0, 300.0, 260.0, 265.0, 250.0, 250.0, 300.0, 320.0, 514.0,\n",
        "       556.0, 840.0, 685.0, 700.0, 700.0, 690.0, 900.0, 650.0, 820.0,\n",
        "       850.0, 900.0, 1015.0, 820.0, 1100.0, 1000.0, 1100.0, 1000.0,\n",
        "       1000.0])\n",
        "\n",
        "from sklearn.model_selection import train_test_split\n",
        "train_input, test_input, train_target, test_target = train_test_split(perch_length, perch_weight, random_state=42)\n",
        "train_input = train_input.reshape(-1, 1)\n",
        "test_input = test_input.reshape(-1, 1)"
      ],
      "metadata": {
        "id": "OCaXXZPrg_eu"
      },
      "execution_count": 3,
      "outputs": []
    },
    {
      "cell_type": "markdown",
      "source": [
        "k- 최근접 이웃 회귀는 농어의 길이가 50cm 이면, 무게를 1033g으로 예측한다."
      ],
      "metadata": {
        "id": "tvrMg6X05jO4"
      }
    },
    {
      "cell_type": "code",
      "source": [
        "from sklearn.neighbors import KNeighborsRegressor\n",
        "\n",
        "knr = KNeighborsRegressor()\n",
        "knr.n_neighbors = 3\n",
        "knr.fit(train_input, train_target)\n",
        "print(knr.predict([[50]]))"
      ],
      "metadata": {
        "colab": {
          "base_uri": "https://localhost:8080/"
        },
        "id": "N5drAsI2hPCP",
        "outputId": "7156dda3-3cd1-47ee-c0bd-350d7de0702c"
      },
      "execution_count": 4,
      "outputs": [
        {
          "output_type": "stream",
          "name": "stdout",
          "text": [
            "[1033.33333333]\n"
          ]
        }
      ]
    },
    {
      "cell_type": "markdown",
      "source": [
        "모델의 결과를 그래프로 보았을 때, 상승곡선의 경향성과 매우 동떨어져 있다는 것을 확인할 수 있습니다.<br>\n",
        "그 이유는 길이가 해당 훈련데이터의 최대길이보다 길어지면, 가장 길이가 긴 3개의 데이터만 예측에 활용하기 때문입니다.<br>\n",
        "심지어 길이를 100cm로 입력해도 결과는 1033으로 올바르지 않은 값이 나옵니다."
      ],
      "metadata": {
        "id": "QSsltTAC55us"
      }
    },
    {
      "cell_type": "code",
      "source": [
        "import matplotlib.pyplot as plt \n",
        "distances, indexes = knr.kneighbors([[50]])\n",
        "\n",
        "plt.scatter(train_input, train_target)\n",
        "plt.scatter(train_input[indexes], train_target[indexes])\n",
        "plt.scatter(50, 1033)"
      ],
      "metadata": {
        "colab": {
          "base_uri": "https://localhost:8080/",
          "height": 282
        },
        "id": "CZkey-F24TYE",
        "outputId": "c8bd407c-96ba-4e58-8f17-b154afabfc29"
      },
      "execution_count": 5,
      "outputs": [
        {
          "output_type": "execute_result",
          "data": {
            "text/plain": [
              "<matplotlib.collections.PathCollection at 0x7f28a5d51390>"
            ]
          },
          "metadata": {},
          "execution_count": 5
        },
        {
          "output_type": "display_data",
          "data": {
            "image/png": "[encoded data removed]",
            "text/plain": [
              "<Figure size 432x288 with 1 Axes>"
            ]
          },
          "metadata": {
            "needs_background": "light"
          }
        }
      ]
    },
    {
      "cell_type": "markdown",
      "source": [
        "### 위의 문제를 해결하기 위해 선형회귀를 사용할 수 있습니다!"
      ],
      "metadata": {
        "id": "LmnxXn2644jl"
      }
    },
    {
      "cell_type": "code",
      "source": [
        "from sklearn.linear_model import LinearRegression\n",
        "lr = LinearRegression()\n",
        "\n",
        "lr.fit(train_input, train_target)\n",
        "\n",
        "print(lr.predict([[50]]))"
      ],
      "metadata": {
        "colab": {
          "base_uri": "https://localhost:8080/"
        },
        "id": "o0G6kXS66oyt",
        "outputId": "5a330cf9-b254-4db5-ff38-350df7c463af"
      },
      "execution_count": 6,
      "outputs": [
        {
          "output_type": "stream",
          "name": "stdout",
          "text": [
            "[1241.83860323]\n"
          ]
        }
      ]
    },
    {
      "cell_type": "markdown",
      "source": [
        "선형 회귀를 사용하면 \n",
        "$$ y = ax + b $$\n",
        "의 형태로 fitting 됩니다.\n",
        "a와 b는 lr 객체의 coef_와 intercept_ 속성에 각각 저장됩니다.<br>\n",
        "이를 모델 파라미터라고 부르며 모델 파라미터를 찾아가면 훈련하는 방법을 **모델 기반 학습**이라고 부릅니다.<br>\n",
        "전 장에 나왔던 K-최근접 이웃에는 모델 파라미터가 없고, 훈련세트를 저장하는 것이 전부였습니다.<br>\n",
        "이를 **사례 기반\b 학습**이라 부릅니다."
      ],
      "metadata": {
        "id": "y7Oo6-NzAQ-C"
      }
    },
    {
      "cell_type": "code",
      "source": [
        "print(lr.coef_, lr.intercept_)"
      ],
      "metadata": {
        "colab": {
          "base_uri": "https://localhost:8080/"
        },
        "id": "DsYYjOI5Au98",
        "outputId": "0c2b684b-8de6-4a4b-bc00-f61de674bc3c"
      },
      "execution_count": 7,
      "outputs": [
        {
          "output_type": "stream",
          "name": "stdout",
          "text": [
            "[39.01714496] -709.0186449535477\n"
          ]
        }
      ]
    },
    {
      "cell_type": "code",
      "source": [
        "plt.scatter(train_input, train_target)\n",
        "plt.plot([15, 50], [15*lr.coef_+lr.intercept_,50*lr.coef_+lr.intercept_])\n",
        "plt.scatter(50, 1241.8, marker ='^')\n",
        "plt.xlabel('length')\n",
        "plt.ylabel('weight')\n",
        "plt.show()"
      ],
      "metadata": {
        "colab": {
          "base_uri": "https://localhost:8080/",
          "height": 279
        },
        "id": "jBwndq0eAzN5",
        "outputId": "ea786550-125a-4745-c88e-40d1571aa2c8"
      },
      "execution_count": 8,
      "outputs": [
        {
          "output_type": "display_data",
          "data": {
            "image/png": "[encoded data removed]",
            "text/plain": [
              "<Figure size 432x288 with 1 Axes>"
            ]
          },
          "metadata": {
            "needs_background": "light"
          }
        }
      ]
    },
    {
      "cell_type": "code",
      "source": [
        "print(lr.score(train_input, train_target))\n",
        "print(lr.score(test_input, test_target))"
      ],
      "metadata": {
        "colab": {
          "base_uri": "https://localhost:8080/"
        },
        "id": "tJ2490qbBnLm",
        "outputId": "1e8b0a6e-385f-418b-b21d-46e3fb91bf83"
      },
      "execution_count": 9,
      "outputs": [
        {
          "output_type": "stream",
          "name": "stdout",
          "text": [
            "0.939846333997604\n",
            "0.8247503123313558\n"
          ]
        }
      ]
    },
    {
      "cell_type": "markdown",
      "source": [
        "훈련셋의 점수가 테스트 셋의 점수보다 높지만, 훈련셋의 점수도 낮기 때문에 과대적합이라고 보기 힘듭니다.<br> 오히려 과소 적합에 가깝다고 볼 수 있습니다.<br>\n",
        "그래프와 모델이 예측한 구간을 비교해 보았을 때, 완전히 맞는다고 보기 힘든 상태입니다.\n",
        "\n"
      ],
      "metadata": {
        "id": "-XS-RRDqCPuj"
      }
    },
    {
      "cell_type": "markdown",
      "source": [
        "## 다항회귀\n",
        "위의 문제를 해결하기 위해서는, 직선으로 된 모델이 아니라 최적의 곡선을 찾는 것이 좋을 것입니다. <br>\n",
        "이 때, 사용할 수 있는 것이 다항회귀입니다.<br>\n",
        "이 경우에는 2차 방정식으로 해결해보겠습니다."
      ],
      "metadata": {
        "id": "x0bqRQQz6x63"
      }
    },
    {
      "cell_type": "code",
      "source": [
        "train_poly = np.column_stack((train_input ** 2, train_input))\n",
        "test_poly = np.column_stack((test_input ** 2, test_input))\n",
        "print(train_poly.shape, test_poly.shape)"
      ],
      "metadata": {
        "colab": {
          "base_uri": "https://localhost:8080/"
        },
        "id": "sjnSkGBD61qs",
        "outputId": "c21c9eff-a1ae-4c7f-ea4c-e13a1db7ad24"
      },
      "execution_count": 10,
      "outputs": [
        {
          "output_type": "stream",
          "name": "stdout",
          "text": [
            "(42, 2) (14, 2)\n"
          ]
        }
      ]
    },
    {
      "cell_type": "markdown",
      "source": [
        "인풋데이터를 제곱하여 2차 항을 구현하였고, np.column_stack으로 연결했습니다.<br>\n",
        "다음으로는 거기에 선형회귀 모델을 사용하였습니다.<Br>\n",
        "여기서 다항회귀를 하면 선형이 아닐텐데 어째서 선형회귀를 사용하는가? 하는 의문이 생길 수 있습니다. <br>\n",
        "하지만 특성의 값을 제곱한 것을 새로운 하나의 특성이라고 생각한다면 즉, x^2 = y라 치환하면,\n",
        "$$ z=ax^2+bx+c =>z = ay+bx+c$$\n",
        "이기 때문에 선형관계로 표현할 수 있습니다!"
      ],
      "metadata": {
        "id": "BsrHITkS_UYE"
      }
    },
    {
      "cell_type": "code",
      "source": [
        "lr = LinearRegression()\n",
        "lr.fit(train_poly, train_target)\n",
        "print(lr.predict([[50**2,50]]))"
      ],
      "metadata": {
        "colab": {
          "base_uri": "https://localhost:8080/"
        },
        "id": "GvPGdkme_utl",
        "outputId": "6dc0140e-f3f3-44c9-aaca-7452d0b4fe38"
      },
      "execution_count": 14,
      "outputs": [
        {
          "output_type": "stream",
          "name": "stdout",
          "text": [
            "[1573.98423528]\n"
          ]
        }
      ]
    },
    {
      "cell_type": "code",
      "source": [
        "print(lr.coef_, lr.intercept_)"
      ],
      "metadata": {
        "colab": {
          "base_uri": "https://localhost:8080/"
        },
        "id": "2vICgKk1_8WD",
        "outputId": "bfbe1bea-2683-4914-87ba-cc0749817092"
      },
      "execution_count": 19,
      "outputs": [
        {
          "output_type": "stream",
          "name": "stdout",
          "text": [
            "[  1.01433211 -21.55792498] 116.05021078278276\n"
          ]
        }
      ]
    },
    {
      "cell_type": "markdown",
      "source": [
        "두 개의 특성을 사용한 선형모델이기 때문에 모델 파라미터는 총 세개 나옵니다."
      ],
      "metadata": {
        "id": "rLexXxK6BUdS"
      }
    },
    {
      "cell_type": "markdown",
      "source": [
        "아래에 2차 다항회귀 모델의 그래프를 그려보겠습니다."
      ],
      "metadata": {
        "id": "TdGdZNn4BnOs"
      }
    },
    {
      "cell_type": "code",
      "source": [
        "point = np.arange(15, 53)\n",
        "plt.scatter(train_input, train_target)\n",
        "plt.plot(point, 1.01*point**2 - 21.55*point + 116.05)\n",
        "plt.scatter(50, 1574, marker ='^')\n",
        "plt.xlabel('length')\n",
        "plt.xlabel('weight')\n",
        "plt.show()"
      ],
      "metadata": {
        "colab": {
          "base_uri": "https://localhost:8080/",
          "height": 279
        },
        "id": "t6doXHutBtA_",
        "outputId": "1ad344d8-6d80-48f6-b466-a7856d1c1145"
      },
      "execution_count": 25,
      "outputs": [
        {
          "output_type": "display_data",
          "data": {
            "image/png": "[encoded data removed]",
            "text/plain": [
              "<Figure size 432x288 with 1 Axes>"
            ]
          },
          "metadata": {
            "needs_background": "light"
          }
        }
      ]
    },
    {
      "cell_type": "code",
      "source": [
        "print(lr.score(train_poly, train_target))\n",
        "print(lr.score(test_poly, test_target))"
      ],
      "metadata": {
        "colab": {
          "base_uri": "https://localhost:8080/"
        },
        "id": "OFIjS0ZeBw4i",
        "outputId": "1e935921-1017-4c14-f95e-32e45adb5212"
      },
      "execution_count": 28,
      "outputs": [
        {
          "output_type": "stream",
          "name": "stdout",
          "text": [
            "0.9706807451768623\n",
            "0.9775935108325121\n"
          ]
        }
      ]
    },
    {
      "cell_type": "code",
      "source": [
        ""
      ],
      "metadata": {
        "id": "vVGFfohACdYq"
      },
      "execution_count": null,
      "outputs": []
    }
  ]
}