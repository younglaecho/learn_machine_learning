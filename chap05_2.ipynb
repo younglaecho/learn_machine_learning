{
  "nbformat": 4,
  "nbformat_minor": 0,
  "metadata": {
    "colab": {
      "name": "chap05_2.ipynb",
      "provenance": [],
      "collapsed_sections": [],
      "authorship_tag": "ABX9TyPeFjjPADSHjR5S3iuw3WZl",
      "include_colab_link": true
    },
    "kernelspec": {
      "name": "python3",
      "display_name": "Python 3"
    },
    "language_info": {
      "name": "python"
    }
  },
  "cells": [
    {
      "cell_type": "markdown",
      "metadata": {
        "id": "view-in-github",
        "colab_type": "text"
      },
      "source": [
        "<a href=\"https://colab.research.google.com/github/younglaecho/learn_machine_learning/blob/main/chap05_2.ipynb\" target=\"_parent\"><img src=\"https://colab.research.google.com/assets/colab-badge.svg\" alt=\"Open In Colab\"/></a>"
      ]
    },
    {
      "cell_type": "markdown",
      "source": [
        "## 교차검증과 그리드 서치\n"
      ],
      "metadata": {
        "id": "scWa8qPdT5Is"
      }
    },
    {
      "cell_type": "markdown",
      "source": [
        "모델을 만들어가는 과정에서 우리는 여러 형태의 모델을 훈련하고 테스트하게 된다.<br>\n",
        "이 때, 우리가 test 세트를 사용해서 계속 성능을 확인하다보면 점점 테스트 세트에 맞추어진 모델을 만들게 된다.<br>\n",
        "이를 방지하기 위해 훈련세트에서 따로 일부를 때어내어 검증세트라는 것을 만들어 사용하게 된다."
      ],
      "metadata": {
        "id": "AQduIAEAUETL"
      }
    },
    {
      "cell_type": "markdown",
      "source": [
        "## 검증 세트"
      ],
      "metadata": {
        "id": "yrsnFZ1WUmOz"
      }
    },
    {
      "cell_type": "code",
      "source": [
        "import pandas as pd\n",
        "wine = pd.read_csv('https://bit.ly/wine_csv_data')"
      ],
      "metadata": {
        "id": "rKOUMeymUpcQ"
      },
      "execution_count": 1,
      "outputs": []
    },
    {
      "cell_type": "code",
      "source": [
        "data = wine[['alcohol', 'sugar', 'pH']].to_numpy()\n",
        "target = wine['class'].to_numpy()"
      ],
      "metadata": {
        "id": "vIMSorpCUynU"
      },
      "execution_count": 2,
      "outputs": []
    },
    {
      "cell_type": "code",
      "source": [
        "from sklearn.model_selection import train_test_split\n",
        "train_input, test_input, train_target, test_target = train_test_split(data, target, test_size=0.2, random_state=42) "
      ],
      "metadata": {
        "id": "fivzYBRKVA6f"
      },
      "execution_count": 3,
      "outputs": []
    },
    {
      "cell_type": "markdown",
      "source": [
        "검증세트를 만드겠습니다."
      ],
      "metadata": {
        "id": "BBj-EJi_WwRh"
      }
    },
    {
      "cell_type": "code",
      "source": [
        "sub_input, val_input, sub_target, val_target = train_test_split(train_input, train_target, test_size=0.2, random_state=42)"
      ],
      "metadata": {
        "id": "Eu2Z1irbVaYI"
      },
      "execution_count": 4,
      "outputs": []
    },
    {
      "cell_type": "code",
      "source": [
        "print(sub_input.shape, val_input.shape)"
      ],
      "metadata": {
        "colab": {
          "base_uri": "https://localhost:8080/"
        },
        "id": "Cp3GIB2-VhxQ",
        "outputId": "14f6366e-4ec5-438d-f123-d1a7541f2210"
      },
      "execution_count": 5,
      "outputs": [
        {
          "output_type": "stream",
          "name": "stdout",
          "text": [
            "(4157, 3) (1040, 3)\n"
          ]
        }
      ]
    },
    {
      "cell_type": "code",
      "source": [
        "from sklearn.tree import DecisionTreeClassifier\n",
        "dt = DecisionTreeClassifier()\n",
        "dt.fit(sub_input, sub_target)\n",
        "print(dt.score(sub_input, sub_target))\n",
        "print(dt.score(val_input, val_target))"
      ],
      "metadata": {
        "colab": {
          "base_uri": "https://localhost:8080/"
        },
        "id": "iv_GYLrba1u8",
        "outputId": "977a32f3-adc7-4580-a2f3-f6446a59ae64"
      },
      "execution_count": 6,
      "outputs": [
        {
          "output_type": "stream",
          "name": "stdout",
          "text": [
            "0.9971133028626413\n",
            "0.8596153846153847\n"
          ]
        }
      ]
    },
    {
      "cell_type": "markdown",
      "source": [
        "## 교차 검증"
      ],
      "metadata": {
        "id": "InZsDhGdV2w5"
      }
    },
    {
      "cell_type": "markdown",
      "source": [
        "안정적인 검증점수를 얻기 위해 교차검증이란 것을 합니다.<br>\n",
        "교차검증은 검증세트를 떼어내어 평가하는 과정을 여러번 반복하는 것을 말합니다.<br>\n",
        "여러 번 한 것을 평균하여 최종 검증 점수를 얻습니다.<br>\n",
        "일반적으로 5-폴드, 10-폴드를 많이 사용한다고 합니다. 이렇게 하면 데이터의 80~90%까지를 훈련에 사용할 수 있습니다."
      ],
      "metadata": {
        "id": "9qxRsDljZRZo"
      }
    },
    {
      "cell_type": "markdown",
      "source": [
        "cross_validate()라는 교차 검증 함수를 활용해보겠습니다.\n"
      ],
      "metadata": {
        "id": "TWNrn_hiaRog"
      }
    },
    {
      "cell_type": "code",
      "source": [
        "from sklearn.model_selection import cross_validate\n",
        "scores = cross_validate(dt, train_input, train_target)\n",
        "print(scores)\n",
        "                      "
      ],
      "metadata": {
        "colab": {
          "base_uri": "https://localhost:8080/"
        },
        "id": "xR1QCt6Haml_",
        "outputId": "300f8182-db24-4f4e-956a-a560e31a9e1b"
      },
      "execution_count": 7,
      "outputs": [
        {
          "output_type": "stream",
          "name": "stdout",
          "text": [
            "{'fit_time': array([0.00686264, 0.00589013, 0.00643945, 0.00636458, 0.00589204]), 'score_time': array([0.00068092, 0.00050712, 0.00052786, 0.0005486 , 0.00050926]), 'test_score': array([0.87211538, 0.85      , 0.87872955, 0.85274302, 0.83926853])}\n"
          ]
        }
      ]
    },
    {
      "cell_type": "markdown",
      "source": [
        "기본 값으로 5-폴드가 실행됩니다.<br>\n",
        "* fit_time: fit하는데 걸린 시간<br>\n",
        "* score_time: score를 내는데 걸린 시간<br>\n",
        "* test_score: score<br>\n",
        "\n",
        "아래에서 교차 검증을 최종 점수를 구하겠습니다.\n"
      ],
      "metadata": {
        "id": "0WFCnL5zbUZA"
      }
    },
    {
      "cell_type": "code",
      "source": [
        "import numpy as np\n",
        "\n",
        "print(np.mean(scores['test_score']))"
      ],
      "metadata": {
        "colab": {
          "base_uri": "https://localhost:8080/"
        },
        "id": "IQRVFMTUbTps",
        "outputId": "e4911575-8517-4821-af89-ce41c228ef72"
      },
      "execution_count": 8,
      "outputs": [
        {
          "output_type": "stream",
          "name": "stdout",
          "text": [
            "0.858571296364848\n"
          ]
        }
      ]
    },
    {
      "cell_type": "markdown",
      "source": [
        "현재 데이터에서는 우리가 train_test_split을 사용해 훈련 셋을 섞어 두었지만, <br>\n",
        "교차 검증에서 데이터를 섞어 줄 필요가 있다면 splitter 라는 것을 사용해야합니다."
      ],
      "metadata": {
        "id": "tvpxCHqlbzN8"
      }
    },
    {
      "cell_type": "markdown",
      "source": [
        "회귀 모델 : KFold 분할기<br>\n",
        "분류 모델 : StratifiedKFold 분할기"
      ],
      "metadata": {
        "id": "7KNr01hFcn4E"
      }
    },
    {
      "cell_type": "code",
      "source": [
        "from sklearn.model_selection import StratifiedKFold\n",
        "scores = cross_validate(dt, train_input, train_target, cv=StratifiedKFold())\n",
        "print(np.mean(scores['test_score']))"
      ],
      "metadata": {
        "colab": {
          "base_uri": "https://localhost:8080/"
        },
        "id": "gc3diU5iduO6",
        "outputId": "348d43b4-c033-4b01-808d-741848fd898b"
      },
      "execution_count": 9,
      "outputs": [
        {
          "output_type": "stream",
          "name": "stdout",
          "text": [
            "0.8587637891463686\n"
          ]
        }
      ]
    },
    {
      "cell_type": "markdown",
      "source": [
        "아래는 10-폴드 교차 검증입니다."
      ],
      "metadata": {
        "id": "VvjDCZvod4KG"
      }
    },
    {
      "cell_type": "code",
      "source": [
        "splitter = StratifiedKFold(n_splits=10, shuffle=True, random_state=42)\n",
        "scores = cross_validate(dt, train_input, train_target, cv=splitter)\n",
        "print(np.mean(scores['test_score']))"
      ],
      "metadata": {
        "colab": {
          "base_uri": "https://localhost:8080/"
        },
        "id": "Ciixu-FBhTi2",
        "outputId": "92ee70d3-92e9-4bf4-b802-17f8d24fbdb4"
      },
      "execution_count": 10,
      "outputs": [
        {
          "output_type": "stream",
          "name": "stdout",
          "text": [
            "0.860114865866311\n"
          ]
        }
      ]
    },
    {
      "cell_type": "markdown",
      "source": [
        "### 하이퍼 파라미터 튜닝"
      ],
      "metadata": {
        "id": "QtISSnuIhnyz"
      }
    },
    {
      "cell_type": "markdown",
      "source": [
        "하이퍼 파라미터는 모델마다 적게는 1 ~ 2개, 많게는 5 ~ 6개가 있습니다.<br>\n",
        "문제는 하나의 값을 최적의 값으로 고정하고, 다른 값을 찾아내는 방식이 가능하지 않다는 것입니다.<br>\n",
        "매개변수의 양이 많아질 수록 직접 찾아내는 것이 어려워집니다.<br>\n",
        "이를 해결하기 위해 사이킷런에서는 그리드 서치라는 것을 제공합니다."
      ],
      "metadata": {
        "id": "OiGjEaTliNaC"
      }
    },
    {
      "cell_type": "markdown",
      "source": [
        "결정트리 알고리즘의 min_impurity_decrease 파라미터를 예시로 구현해보겠습니다."
      ],
      "metadata": {
        "id": "bhIqflJRixCE"
      }
    },
    {
      "cell_type": "code",
      "source": [
        "from sklearn.model_selection import GridSearchCV\n",
        "params = {'min_impurity_decrease': [0.0001, 0.0002, 0.0003, 0.0004, 0.0005]}\n",
        "gs = GridSearchCV(DecisionTreeClassifier(random_state=42), params, n_jobs=-1)"
      ],
      "metadata": {
        "id": "-H6G88qRjGfC"
      },
      "execution_count": 11,
      "outputs": []
    },
    {
      "cell_type": "markdown",
      "source": [
        "GridSearchCV의 매개변수 기본값 5입니다. 즉 5-폴드 교차 검증을 수행합니다.<br>\n",
        "즉 5x5개의 모델을 훈련합니다. n_jobs = -1로 설정하면 시스템의 모든 코어를 사용한다. "
      ],
      "metadata": {
        "id": "t8oPrSz7jgdQ"
      }
    },
    {
      "cell_type": "code",
      "source": [
        "gs.fit(train_input, train_target)"
      ],
      "metadata": {
        "colab": {
          "base_uri": "https://localhost:8080/"
        },
        "id": "xTUs8uYQ96ft",
        "outputId": "9fbcf811-62e6-410f-c1a5-0b690b8a8496"
      },
      "execution_count": 12,
      "outputs": [
        {
          "output_type": "execute_result",
          "data": {
            "text/plain": [
              "GridSearchCV(estimator=DecisionTreeClassifier(random_state=42), n_jobs=-1,\n",
              "             param_grid={'min_impurity_decrease': [0.0001, 0.0002, 0.0003,\n",
              "                                                   0.0004, 0.0005]})"
            ]
          },
          "metadata": {},
          "execution_count": 12
        }
      ]
    },
    {
      "cell_type": "markdown",
      "source": [
        "best_estimator_에 25개의 모델 중에서 가장 점수가 높을 모델으로 전체 train 세트를 학습한 모델이 들어갑니다.\n"
      ],
      "metadata": {
        "id": "Hq5AnrhI_-Ty"
      }
    },
    {
      "cell_type": "code",
      "source": [
        "dt = gs.best_estimator_\n",
        "print(dt.score(train_input, train_target))"
      ],
      "metadata": {
        "colab": {
          "base_uri": "https://localhost:8080/"
        },
        "id": "okOcXLeS-U_l",
        "outputId": "cdf2fbca-3613-4af9-ced3-96cf746c89f0"
      },
      "execution_count": 13,
      "outputs": [
        {
          "output_type": "stream",
          "name": "stdout",
          "text": [
            "0.9615162593804117\n"
          ]
        }
      ]
    },
    {
      "cell_type": "markdown",
      "source": [
        "가장 점수가 높게 나온 하이퍼파라미터가 best_params_에 담깁니다."
      ],
      "metadata": {
        "id": "JnpJJlLfAihw"
      }
    },
    {
      "cell_type": "code",
      "source": [
        "print(gs.best_params_)"
      ],
      "metadata": {
        "colab": {
          "base_uri": "https://localhost:8080/"
        },
        "id": "jhnZkuCG_3wH",
        "outputId": "a2f36505-785c-4e3a-84e8-c84e11d45094"
      },
      "execution_count": 14,
      "outputs": [
        {
          "output_type": "stream",
          "name": "stdout",
          "text": [
            "{'min_impurity_decrease': 0.0001}\n"
          ]
        }
      ]
    },
    {
      "cell_type": "markdown",
      "source": [
        "cv_results_를 통해 전체 score를 확인할수 있다."
      ],
      "metadata": {
        "id": "bofrssqwBqAG"
      }
    },
    {
      "cell_type": "code",
      "source": [
        "print(gs.cv_results_)\n",
        "print(gs.cv_results_['mean_test_score'])"
      ],
      "metadata": {
        "colab": {
          "base_uri": "https://localhost:8080/"
        },
        "id": "IEHlu3LwAhu0",
        "outputId": "73249804-f1df-4291-adf9-4f6db65885e0"
      },
      "execution_count": 17,
      "outputs": [
        {
          "output_type": "stream",
          "name": "stdout",
          "text": [
            "{'mean_fit_time': array([0.00847259, 0.00746751, 0.00698519, 0.00909309, 0.00623603]), 'std_fit_time': array([0.00062805, 0.00013216, 0.00010415, 0.00234073, 0.00032025]), 'mean_score_time': array([0.00088024, 0.00084167, 0.00084906, 0.00214186, 0.00076518]), 'std_score_time': array([3.46060276e-05, 8.81850218e-05, 8.59641521e-05, 2.14569304e-03,\n",
            "       1.25472212e-04]), 'param_min_impurity_decrease': masked_array(data=[0.0001, 0.0002, 0.0003, 0.0004, 0.0005],\n",
            "             mask=[False, False, False, False, False],\n",
            "       fill_value='?',\n",
            "            dtype=object), 'params': [{'min_impurity_decrease': 0.0001}, {'min_impurity_decrease': 0.0002}, {'min_impurity_decrease': 0.0003}, {'min_impurity_decrease': 0.0004}, {'min_impurity_decrease': 0.0005}], 'split0_test_score': array([0.86923077, 0.87115385, 0.86923077, 0.86923077, 0.86538462]), 'split1_test_score': array([0.86826923, 0.86346154, 0.85961538, 0.86346154, 0.86923077]), 'split2_test_score': array([0.8825794 , 0.87680462, 0.87584216, 0.88161694, 0.8825794 ]), 'split3_test_score': array([0.86717998, 0.85466795, 0.85081809, 0.84889317, 0.84985563]), 'split4_test_score': array([0.85370549, 0.85659288, 0.86910491, 0.87584216, 0.87102984]), 'mean_test_score': array([0.86819297, 0.86453617, 0.86492226, 0.86780891, 0.86761605]), 'std_test_score': array([0.00915386, 0.00843731, 0.0087452 , 0.01125985, 0.01056953]), 'rank_test_score': array([1, 5, 4, 2, 3], dtype=int32)}\n",
            "[0.86819297 0.86453617 0.86492226 0.86780891 0.86761605]\n"
          ]
        }
      ]
    },
    {
      "cell_type": "code",
      "source": [
        "best_index = np.argmax(gs.cv_results_['mean_test_score'])\n",
        "print(gs.cv_results_['params'][best_index])"
      ],
      "metadata": {
        "colab": {
          "base_uri": "https://localhost:8080/"
        },
        "id": "kVRvClR8BHTN",
        "outputId": "8b8592fc-2848-4765-ac1d-8ce188f02e7d"
      },
      "execution_count": 16,
      "outputs": [
        {
          "output_type": "stream",
          "name": "stdout",
          "text": [
            "{'min_impurity_decrease': 0.0001}\n"
          ]
        }
      ]
    },
    {
      "cell_type": "markdown",
      "source": [
        "여러 개의 하이퍼 파라미터를 동시에 그리드 서치 해보겠습니다."
      ],
      "metadata": {
        "id": "Dd28m2yFBXCk"
      }
    },
    {
      "cell_type": "code",
      "source": [
        "params = {'min_impurity_decrease': np.arange(0.0001, 0.001, 0.0001),\n",
        "          'max_depth': range(5, 20, 1),\n",
        "          'min_samples_split': range(2, 100, 10)}"
      ],
      "metadata": {
        "id": "3J1gxMMEikwg"
      },
      "execution_count": 18,
      "outputs": []
    },
    {
      "cell_type": "markdown",
      "source": [
        "이대로 실행하면 9x15x10 = 1350 번의 교차검증을 수행하게 되고<br>\n",
        "5-폴드 교차검증을 수행하므로 모델의 수는 6750개가 됩니다."
      ],
      "metadata": {
        "id": "ldjdMYxji79U"
      }
    },
    {
      "cell_type": "code",
      "source": [
        "gs = GridSearchCV(DecisionTreeClassifier(random_state=42), params, n_jobs=-1)\n",
        "gs.fit(train_input, train_target)"
      ],
      "metadata": {
        "colab": {
          "base_uri": "https://localhost:8080/"
        },
        "id": "I6CAYyUtjNxD",
        "outputId": "979d6e63-967d-4fcd-9972-67d0261d09d3"
      },
      "execution_count": 20,
      "outputs": [
        {
          "output_type": "execute_result",
          "data": {
            "text/plain": [
              "GridSearchCV(estimator=DecisionTreeClassifier(random_state=42), n_jobs=-1,\n",
              "             param_grid={'max_depth': range(5, 20),\n",
              "                         'min_impurity_decrease': array([0.0001, 0.0002, 0.0003, 0.0004, 0.0005, 0.0006, 0.0007, 0.0008,\n",
              "       0.0009]),\n",
              "                         'min_samples_split': range(2, 100, 10)})"
            ]
          },
          "metadata": {},
          "execution_count": 20
        }
      ]
    },
    {
      "cell_type": "markdown",
      "source": [
        "최상의 매개변수 조합을 확인해보겠습니다."
      ],
      "metadata": {
        "id": "S68pY0OhjkED"
      }
    },
    {
      "cell_type": "code",
      "source": [
        "print(gs.best_params_)"
      ],
      "metadata": {
        "colab": {
          "base_uri": "https://localhost:8080/"
        },
        "id": "69ol_beqjYE2",
        "outputId": "4774178f-c72e-43b6-8327-84be21237b6b"
      },
      "execution_count": 22,
      "outputs": [
        {
          "output_type": "stream",
          "name": "stdout",
          "text": [
            "{'max_depth': 14, 'min_impurity_decrease': 0.0004, 'min_samples_split': 12}\n"
          ]
        }
      ]
    },
    {
      "cell_type": "markdown",
      "source": [
        "최대 교차 검증 점수도 확인해보겠습니다."
      ],
      "metadata": {
        "id": "ZiZ7ZBgpjs2l"
      }
    },
    {
      "cell_type": "code",
      "source": [
        "print(np.max(gs.cv_results_['mean_test_score']))"
      ],
      "metadata": {
        "colab": {
          "base_uri": "https://localhost:8080/"
        },
        "id": "eZjqNhOZjh90",
        "outputId": "8ffdcabb-22d5-4d79-ca7f-9290f4ef64c9"
      },
      "execution_count": 23,
      "outputs": [
        {
          "output_type": "stream",
          "name": "stdout",
          "text": [
            "0.8683865773302731\n"
          ]
        }
      ]
    },
    {
      "cell_type": "markdown",
      "source": [
        "## 랜덤 서치"
      ],
      "metadata": {
        "id": "zONbYwtpj4J0"
      }
    },
    {
      "cell_type": "markdown",
      "source": [
        "매개변수의 값이 수치일 때 값의 범위나 간격을 미리 정하기 어려울 수 있습니다. 또한 너무 많은 매개변수 조건이 있어 그리드 서치 수행시간이 오래걸릴 수 있습니다. 이를 위해 랜덤 서치를 활용해보겠습니다."
      ],
      "metadata": {
        "id": "VEv9aKUIkobF"
      }
    },
    {
      "cell_type": "markdown",
      "source": [
        "scipy의 uniform과 randint 를 활용하여 구현해보겠습니다."
      ],
      "metadata": {
        "id": "gqV4weDBknxa"
      }
    },
    {
      "cell_type": "code",
      "source": [
        "from scipy.stats import uniform, randint\n",
        "rgen = randint(0, 10)\n",
        "print(type(rgen.rvs(10)))\n",
        "print(rgen.rvs(10))"
      ],
      "metadata": {
        "colab": {
          "base_uri": "https://localhost:8080/"
        },
        "id": "ic6Ki9QBk9Ly",
        "outputId": "30a5499c-0e7b-4c16-87f9-393543a1f98a"
      },
      "execution_count": 30,
      "outputs": [
        {
          "output_type": "stream",
          "name": "stdout",
          "text": [
            "<class 'numpy.ndarray'>\n",
            "[5 6 3 9 5 9 0 6 5 3]\n"
          ]
        }
      ]
    },
    {
      "cell_type": "code",
      "source": [
        "np.unique(rgen.rvs(1000), return_counts=True)"
      ],
      "metadata": {
        "colab": {
          "base_uri": "https://localhost:8080/"
        },
        "id": "2yt0RJQ8lGlc",
        "outputId": "34227a5d-e34f-43c3-f661-80191665cc07"
      },
      "execution_count": 31,
      "outputs": [
        {
          "output_type": "execute_result",
          "data": {
            "text/plain": [
              "(array([0, 1, 2, 3, 4, 5, 6, 7, 8, 9]),\n",
              " array([ 81, 110, 106, 106, 100,  85, 102, 101, 109, 100]))"
            ]
          },
          "metadata": {},
          "execution_count": 31
        }
      ]
    },
    {
      "cell_type": "markdown",
      "source": [
        "randint 객체를 만들고 rvs라는 메서드를 사용하여 범위내의 정수를 고르게 뽑아낸다.\n"
      ],
      "metadata": {
        "id": "6k8qKUpplTBS"
      }
    },
    {
      "cell_type": "markdown",
      "source": [
        "uniform도 똑같은 방식으로 사용할 수 있다."
      ],
      "metadata": {
        "id": "7LL0G0E9lhm3"
      }
    },
    {
      "cell_type": "code",
      "source": [
        "ugen = uniform(0,1)\n",
        "ugen.rvs(10)"
      ],
      "metadata": {
        "colab": {
          "base_uri": "https://localhost:8080/"
        },
        "id": "hcexUJP3lqF9",
        "outputId": "e1d48c30-53c6-45c3-f5a5-f60098fce0cb"
      },
      "execution_count": 32,
      "outputs": [
        {
          "output_type": "execute_result",
          "data": {
            "text/plain": [
              "array([0.0462902 , 0.73140802, 0.5993152 , 0.59226129, 0.54830856,\n",
              "       0.13330111, 0.89771868, 0.52552833, 0.10886974, 0.59606008])"
            ]
          },
          "metadata": {},
          "execution_count": 32
        }
      ]
    },
    {
      "cell_type": "markdown",
      "source": [
        "이를 활용하여 랜덤서치를 통해 예측해보겠습니다."
      ],
      "metadata": {
        "id": "UAEkdP5mltsI"
      }
    },
    {
      "cell_type": "code",
      "source": [
        "params = {'min_impurity_decrease': uniform(0.001, 0.001),\n",
        "          'max_depth': randint(20, 50),\n",
        "          'min_samples_split': randint(2,25),\n",
        "          'min_samples_leaf': randint(1,25)}\n"
      ],
      "metadata": {
        "id": "Xbt1wYXTq-KW"
      },
      "execution_count": 33,
      "outputs": []
    },
    {
      "cell_type": "markdown",
      "source": [
        "min_impurity_decrease : 불순도 감소 최소량<br>\n",
        "max_depth \n",
        "- default = None\n",
        "- 최대 깊이 \n",
        "- 완벽하게 클래스 값이 결정될 때 까지 분할\n",
        "또는 데이터 개수가 min_samples_split보다 작아질 때까지 분할\n",
        "- 깊이가 깊어지면 과적합될 수 있으므로 적절히 제어 필요\n",
        "\n",
        "min_samples_split \n",
        "- 노드를 분할하기 위한 최소한의 샘플 데이터수 → 과적합을 제어하는데 사용\n",
        "- Default = 2 → 작게 설정할 수록 분할 노드가 많아져 과적합 가능성 증가\n",
        "\n",
        "min_samples_leaf \n",
        "- 리프노드가 되기 위해 필요한 최소한의 샘플 데이터수\n",
        "- min_samples_split과 함께 과적합 제어 용도\n",
        "- 불균형 데이터의 경우 특정 클래스의 데이터가 극도로 작을 수 있으므로 작게 설정 필요\n"
      ],
      "metadata": {
        "id": "At8besfMrbxR"
      }
    },
    {
      "cell_type": "code",
      "source": [
        "from sklearn.model_selection import RandomizedSearchCV\n",
        "gs = RandomizedSearchCV(DecisionTreeClassifier(random_state=42, splitter='random'), params, n_iter=100, n_jobs=-1, random_state=42)\n",
        "gs.fit(train_input, train_target)"
      ],
      "metadata": {
        "colab": {
          "base_uri": "https://localhost:8080/"
        },
        "id": "LBC0bPkes7qI",
        "outputId": "beee7591-2b34-4d03-a87f-9d199a86b65c"
      },
      "execution_count": 48,
      "outputs": [
        {
          "output_type": "execute_result",
          "data": {
            "text/plain": [
              "RandomizedSearchCV(estimator=DecisionTreeClassifier(random_state=42,\n",
              "                                                    splitter='random'),\n",
              "                   n_iter=100, n_jobs=-1,\n",
              "                   param_distributions={'max_depth': <scipy.stats._distn_infrastructure.rv_frozen object at 0x7fb37d77fa90>,\n",
              "                                        'min_impurity_decrease': <scipy.stats._distn_infrastructure.rv_frozen object at 0x7fb37d80e690>,\n",
              "                                        'min_samples_leaf': <scipy.stats._distn_infrastructure.rv_frozen object at 0x7fb37d770950>,\n",
              "                                        'min_samples_split': <scipy.stats._distn_infrastructure.rv_frozen object at 0x7fb37d77f290>},\n",
              "                   random_state=42)"
            ]
          },
          "metadata": {},
          "execution_count": 48
        }
      ]
    },
    {
      "cell_type": "markdown",
      "source": [
        "params에는 난수생성기(?)객체를 넣고, 랜덤서치 클래스인 RandomizedSearchCV의 매개변수로 n_iter(조합의 수)를 입력한다."
      ],
      "metadata": {
        "id": "ojtgp-LktPRv"
      }
    },
    {
      "cell_type": "code",
      "source": [
        "print(gs.best_params_)"
      ],
      "metadata": {
        "colab": {
          "base_uri": "https://localhost:8080/"
        },
        "id": "f1upbI37tnh4",
        "outputId": "caabe576-e3d0-461a-e6d7-7be83d7cce86"
      },
      "execution_count": 49,
      "outputs": [
        {
          "output_type": "stream",
          "name": "stdout",
          "text": [
            "{'max_depth': 24, 'min_impurity_decrease': 0.0012301852682415552, 'min_samples_leaf': 16, 'min_samples_split': 20}\n"
          ]
        }
      ]
    },
    {
      "cell_type": "code",
      "source": [
        "print(np.max(gs.cv_results_['mean_test_score']))"
      ],
      "metadata": {
        "colab": {
          "base_uri": "https://localhost:8080/"
        },
        "id": "kDiLzj9etpkz",
        "outputId": "ebaa1567-1ac7-4ba7-b1f5-980e36234eaa"
      },
      "execution_count": 50,
      "outputs": [
        {
          "output_type": "stream",
          "name": "stdout",
          "text": [
            "0.81778003997927\n"
          ]
        }
      ]
    },
    {
      "cell_type": "code",
      "source": [
        "Dt = gs.best_estimator_\n",
        "print(dt.score(test_input, test_target))"
      ],
      "metadata": {
        "colab": {
          "base_uri": "https://localhost:8080/"
        },
        "id": "6v6DhAIstyAC",
        "outputId": "01441954-ed28-49ea-d971-9fc06b1e4f57"
      },
      "execution_count": 51,
      "outputs": [
        {
          "output_type": "stream",
          "name": "stdout",
          "text": [
            "0.8653846153846154\n"
          ]
        }
      ]
    },
    {
      "cell_type": "code",
      "source": [
        ""
      ],
      "metadata": {
        "id": "S2lYY1HQvhMP"
      },
      "execution_count": null,
      "outputs": []
    }
  ]
}