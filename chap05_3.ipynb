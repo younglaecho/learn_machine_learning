{
  "nbformat": 4,
  "nbformat_minor": 0,
  "metadata": {
    "colab": {
      "name": "chap05_3.ipynb",
      "provenance": [],
      "collapsed_sections": [],
      "authorship_tag": "ABX9TyMlSST3n4q/jX984jZEMA6g",
      "include_colab_link": true
    },
    "kernelspec": {
      "name": "python3",
      "display_name": "Python 3"
    },
    "language_info": {
      "name": "python"
    }
  },
  "cells": [
    {
      "cell_type": "markdown",
      "metadata": {
        "id": "view-in-github",
        "colab_type": "text"
      },
      "source": [
        "<a href=\"https://colab.research.google.com/github/younglaecho/learn_machine_learning/blob/main/chap05_3.ipynb\" target=\"_parent\"><img src=\"https://colab.research.google.com/assets/colab-badge.svg\" alt=\"Open In Colab\"/></a>"
      ]
    },
    {
      "cell_type": "markdown",
      "source": [
        "# 트리의 앙상블"
      ],
      "metadata": {
        "id": "cor0YjCu61fx"
      }
    },
    {
      "cell_type": "markdown",
      "source": [
        "## 랜덤 포레스트\n",
        "결정트리를 램덤하게 만들어 결정 트리의 숲을 만드는 알고리즘\n",
        "* 부트스트랩 샘플 \n",
        "  - 중복을 허용하는 샘플\n",
        "  - 일반적으로, 샘플의 데이터 개수는 훈련 세트의 크기와 같게 만듦\n",
        "\n",
        "* RandomForestClassifier\n",
        "  - 기본적으로 노드마다 전체 특성 개수의 제곱급만큼의 특성을 선택합니다.\n",
        "  - 최선의 분할을 찾음."
      ],
      "metadata": {
        "id": "cGge9lAs7CLP"
      }
    },
    {
      "cell_type": "markdown",
      "source": [
        "####데이터 전처리"
      ],
      "metadata": {
        "id": "uYG5o_0obmI1"
      }
    },
    {
      "cell_type": "code",
      "source": [
        "import numpy as np \n",
        "import pandas as pd\n",
        "from sklearn.model_selection import train_test_split\n",
        "wine = pd.read_csv('https://bit.ly/wine_csv_data')\n",
        "data = wine[['alcohol', 'sugar', 'pH']].to_numpy()\n",
        "target = wine['class'].to_numpy()\n",
        "train_input, test_input, train_target, test_target = train_test_split(data, target, test_size=0.2, random_state=42)"
      ],
      "metadata": {
        "id": "BFWY_WbOZg8U"
      },
      "execution_count": 9,
      "outputs": []
    },
    {
      "cell_type": "markdown",
      "source": [
        "cross_validate의 return_train_score=True 로 지정해야 train_score를 확인할 수 있습니다.\n"
      ],
      "metadata": {
        "id": "FbPGuQlXbjUF"
      }
    },
    {
      "cell_type": "code",
      "source": [
        "from sklearn.model_selection import cross_validate\n",
        "from sklearn.ensemble import RandomForestClassifier\n",
        "rf = RandomForestClassifier(n_jobs=-1, random_state=42)\n",
        "scores = cross_validate(rf, train_input, train_target, return_train_score=True, n_jobs=-1)\n",
        "print(np.mean(scores['train_score']), np.mean(scores['test_score']))"
      ],
      "metadata": {
        "colab": {
          "base_uri": "https://localhost:8080/"
        },
        "id": "6ALxJuvMarxv",
        "outputId": "c87b11f2-177b-479f-adf3-08711b3c208c"
      },
      "execution_count": 7,
      "outputs": [
        {
          "output_type": "stream",
          "name": "stdout",
          "text": [
            "0.9973541965122431 0.8905151032797809\n"
          ]
        }
      ]
    },
    {
      "cell_type": "markdown",
      "source": [
        "rf.feature_importances_를 통해서 특성의 중요도"
      ],
      "metadata": {
        "id": "3eTYtRvXf0xh"
      }
    },
    {
      "cell_type": "code",
      "source": [
        "rf.fit(train_input, train_target)\n",
        "print(rf.score(train_input,train_target))\n",
        "print(rf.score(test_input,test_target))\n",
        "print(rf.feature_importances_) # 훈련 세트에 훈련한 후 특성 중요도"
      ],
      "metadata": {
        "colab": {
          "base_uri": "https://localhost:8080/"
        },
        "id": "l-_9sDRkargd",
        "outputId": "e221ad13-eb83-4a69-d4b2-d416128076d8"
      },
      "execution_count": 16,
      "outputs": [
        {
          "output_type": "stream",
          "name": "stdout",
          "text": [
            "0.996921300750433\n",
            "0.8892307692307693\n",
            "[0.23167441 0.50039841 0.26792718]\n"
          ]
        }
      ]
    },
    {
      "cell_type": "markdown",
      "source": [
        "oob_score=True : 부트스트랩 샘플에 포함되지 않은 샘플을 검증세트에 사용함"
      ],
      "metadata": {
        "id": "HDQJcK_of0ZM"
      }
    },
    {
      "cell_type": "code",
      "source": [
        "rf = RandomForestClassifier(oob_score=True, n_jobs=-1, random_state=42)\n",
        "rf.fit(train_input, train_target)\n",
        "print(rf.oob_score_)"
      ],
      "metadata": {
        "colab": {
          "base_uri": "https://localhost:8080/"
        },
        "id": "e_T2RJzbeyBV",
        "outputId": "8029c4d5-b69e-4a2f-f5f2-32344837af30"
      },
      "execution_count": 19,
      "outputs": [
        {
          "output_type": "stream",
          "name": "stdout",
          "text": [
            "0.8934000384837406\n"
          ]
        }
      ]
    },
    {
      "cell_type": "markdown",
      "source": [
        "##엑스트라 트리"
      ],
      "metadata": {
        "id": "E7i8XR91PvGH"
      }
    },
    {
      "cell_type": "markdown",
      "source": [
        "결정트리를 램덤하게 만들어 결정 트리의 숲을 만드는 알고리즘\n",
        "\n",
        "* 부트스트랩 샘플을 사용하지 않음 => 중복 허용x, 전체 훈련 세트를 사용\n",
        "* 기본적으로 노드마다 전체 특성 개수의 제곱급만큼의 특성을 선택합니다.\n",
        "* 노드를 분할할 때 무작위로 분할"
      ],
      "metadata": {
        "id": "7u6GUVPHPxK8"
      }
    },
    {
      "cell_type": "code",
      "source": [
        "from sklearn.ensemble import ExtraTreesClassifier\n",
        "et = ExtraTreesClassifier(n_jobs=-1, random_state=42)\n",
        "stores = cross_validate(et, train_input, train_target, return_train_score=True, n_jobs=-1)\n",
        "print(np.mean(scores['train_score']), np.mean(scores['test_score']))"
      ],
      "metadata": {
        "colab": {
          "base_uri": "https://localhost:8080/"
        },
        "id": "dsLdIU0bhtS-",
        "outputId": "14fbf0e8-7143-4af2-fc77-cad6db7a3264"
      },
      "execution_count": 20,
      "outputs": [
        {
          "output_type": "stream",
          "name": "stdout",
          "text": [
            "0.9973541965122431 0.8905151032797809\n"
          ]
        }
      ]
    },
    {
      "cell_type": "markdown",
      "source": [
        "* 더 높은 무작위성 때문에 랜덤 포레스트보다 더 많은 결정 트리를 훈련해야 합니다.\n",
        "* 하지만 랜덤하게 노드를 분할하기 때문에 빠른 계산 속도가 엑스트라 트리의 장점입니다."
      ],
      "metadata": {
        "id": "-jIP5r8Bi6tc"
      }
    },
    {
      "cell_type": "code",
      "source": [
        "et.fit(train_input, train_target)\n",
        "print(et.feature_importances_)"
      ],
      "metadata": {
        "colab": {
          "base_uri": "https://localhost:8080/"
        },
        "id": "PUhfD37Aka1x",
        "outputId": "ac2e17aa-3c96-4027-dcd2-db90c8550ec2"
      },
      "execution_count": 21,
      "outputs": [
        {
          "output_type": "stream",
          "name": "stdout",
          "text": [
            "[0.20183568 0.52242907 0.27573525]\n"
          ]
        }
      ]
    },
    {
      "cell_type": "markdown",
      "source": [
        "## 그래디언트 부스팅"
      ],
      "metadata": {
        "id": "Tk7gt3mYhq_E"
      }
    },
    {
      "cell_type": "markdown",
      "source": [
        "* 기본적으로 깊이가 3인 결정 트리를 100개 사용함.\n",
        "* 깊이가 얕은 결정트리를 사용하기 때문에 과대적합에 강함.\n",
        "* 경사하강법을 사용하여 트리를 앙상블에 추가함.\n",
        "* 분류 : 로지스틱 손실 함수\n",
        "* 회귀 : 평균 제곱 오차 함수"
      ],
      "metadata": {
        "id": "zq14cUuzksda"
      }
    },
    {
      "cell_type": "code",
      "source": [
        "from sklearn.ensemble import GradientBoostingClassifier\n",
        "gb = GradientBoostingClassifier(random_state=42)\n",
        "scores = cross_validate(gb, train_input, train_target, return_train_score=True, n_jobs=-1)\n",
        "print(np.mean(scores['train_score']), np.mean(scores['test_score']))"
      ],
      "metadata": {
        "colab": {
          "base_uri": "https://localhost:8080/"
        },
        "id": "VauSDmXLle-J",
        "outputId": "60469a49-1eea-4957-9be6-dd1c8facc57e"
      },
      "execution_count": 22,
      "outputs": [
        {
          "output_type": "stream",
          "name": "stdout",
          "text": [
            "0.8881086892152563 0.8720430147331015\n"
          ]
        }
      ]
    },
    {
      "cell_type": "markdown",
      "source": [
        "GradientBoostingClassifier의 n_estimaors(결정 트리의 개수), learning_rate(학습율)을 조정할 수 있습니다.\n"
      ],
      "metadata": {
        "id": "69nc6l7Vl-lM"
      }
    },
    {
      "cell_type": "code",
      "source": [
        "gb = GradientBoostingClassifier(n_estimators=500, learning_rate=0.2, random_state=42)\n",
        "scores = cross_validate(gb, train_input, train_target, return_train_score=True, n_jobs=-1)\n",
        "print(np.mean(scores['train_score']), np.mean(scores['test_score']))"
      ],
      "metadata": {
        "colab": {
          "base_uri": "https://localhost:8080/"
        },
        "id": "oOXqlg6Dl49B",
        "outputId": "976259ae-65d0-43a8-8cd2-b1bf2815342c"
      },
      "execution_count": 24,
      "outputs": [
        {
          "output_type": "stream",
          "name": "stdout",
          "text": [
            "0.9464595437171814 0.8780082549788999\n"
          ]
        }
      ]
    },
    {
      "cell_type": "code",
      "source": [
        "gb.fit(train_input, train_target)\n",
        "print(gb.feature_importances_)"
      ],
      "metadata": {
        "colab": {
          "base_uri": "https://localhost:8080/"
        },
        "id": "_QiUK3TkmlY5",
        "outputId": "0d9946b3-dcac-410a-fdd5-398bed87e5f7"
      },
      "execution_count": 25,
      "outputs": [
        {
          "output_type": "stream",
          "name": "stdout",
          "text": [
            "[0.15872278 0.68010884 0.16116839]\n"
          ]
        }
      ]
    },
    {
      "cell_type": "markdown",
      "source": [
        "subsample : 트리 훈련에 사용할 훈련 세트의 비율을 정함\n",
        "  - 1보다 작으면 훈련 세트의 일부만 사용합니다.\n",
        "  - 확률적 경사하강법이나, 미니배치 경사 하강법과 비슷함.\n",
        "\n",
        "일반적으로 그래디언트 부스팅이 랜덤 포레스트보다 조금 더 높은 성능을 얻을 수 있습니다.<br>\n",
        "순서대로 트리를 추가하기 때문에 훈련 속도가 느립니다."
      ],
      "metadata": {
        "id": "SDNcpVNEm0RI"
      }
    },
    {
      "cell_type": "markdown",
      "source": [
        "##히스토그램 기반 그래디언트 부스팅\n"
      ],
      "metadata": {
        "id": "UqU3JlFzPz_6"
      }
    },
    {
      "cell_type": "markdown",
      "source": [
        "입력 특성을 256개의 구간으로 나눔. 따라서 노드를 분할할 때 최적의 분할을 매우 빠르게 찾을 수 있음.<br>\n",
        "256개의 구간 중에서 하나를 떼어 놓고 누락된 값을 위해서 사용합니다.\n"
      ],
      "metadata": {
        "id": "FtzYo4zyP42w"
      }
    },
    {
      "cell_type": "code",
      "source": [
        "from sklearn.ensemble import HistGradientBoostingClassifier\n",
        "hgb = HistGradientBoostingClassifier(random_state=42)\n",
        "scores = cross_validate(hgb, train_input, train_target, return_train_score=True)\n",
        "print(np.mean(scores['train_score']), np.mean(scores['test_score']))"
      ],
      "metadata": {
        "colab": {
          "base_uri": "https://localhost:8080/"
        },
        "id": "-5X9-eGap7Jl",
        "outputId": "237b4167-3cce-4666-f366-23b2139112a5"
      },
      "execution_count": 27,
      "outputs": [
        {
          "output_type": "stream",
          "name": "stdout",
          "text": [
            "0.9321723946453317 0.8801241948619236\n"
          ]
        }
      ]
    },
    {
      "cell_type": "markdown",
      "source": [
        "n_estimators 대신에 부스팅 반복 횟수를 max_iter를 사용합니다.<Br>\n",
        "permutation_importance() 함수를 사용해서 부스팅의 특성 중요도를 계산해보겠습니다.<br>\n",
        "n_repeats 매개변수는 랜덤하게 섞을 횟수를 지접합니다. "
      ],
      "metadata": {
        "id": "7lP_d8gxqbeY"
      }
    },
    {
      "cell_type": "code",
      "source": [
        "from sklearn.inspection import permutation_importance\n",
        "\n",
        "hgb.fit(train_input, train_target)\n",
        "result = permutation_importance(hgb, train_input, train_target, n_repeats=10, random_state=42, n_jobs=-1)\n",
        "print(result.importances_mean)"
      ],
      "metadata": {
        "colab": {
          "base_uri": "https://localhost:8080/"
        },
        "id": "4BIZnmAprp1Z",
        "outputId": "2c4bf9b7-be1e-4bb8-ec78-458eb3676301"
      },
      "execution_count": 28,
      "outputs": [
        {
          "output_type": "stream",
          "name": "stdout",
          "text": [
            "[0.08876275 0.23438522 0.08027708]\n"
          ]
        }
      ]
    },
    {
      "cell_type": "code",
      "source": [
        "result = permutation_importance(hgb, train_input, train_target, n_repeats=10, random_state=42, n_jobs=-1)\n",
        "print(result.importances_mean)"
      ],
      "metadata": {
        "colab": {
          "base_uri": "https://localhost:8080/"
        },
        "id": "oNkE8mETsBTD",
        "outputId": "bb7095d4-f8b4-487a-eca0-40f59c644723"
      },
      "execution_count": 29,
      "outputs": [
        {
          "output_type": "stream",
          "name": "stdout",
          "text": [
            "[0.08876275 0.23438522 0.08027708]\n"
          ]
        }
      ]
    },
    {
      "cell_type": "code",
      "source": [
        "hgb.score(test_input, test_target)"
      ],
      "metadata": {
        "colab": {
          "base_uri": "https://localhost:8080/"
        },
        "id": "GQDnJ6zVsaIJ",
        "outputId": "8463242a-cb2a-4fb9-f019-378d53e38a55"
      },
      "execution_count": 30,
      "outputs": [
        {
          "output_type": "execute_result",
          "data": {
            "text/plain": [
              "0.8723076923076923"
            ]
          },
          "metadata": {},
          "execution_count": 30
        }
      ]
    },
    {
      "cell_type": "markdown",
      "source": [
        ""
      ],
      "metadata": {
        "id": "qbvGnF_MsOKm"
      }
    }
  ]
}