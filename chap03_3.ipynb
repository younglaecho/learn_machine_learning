{
  "nbformat": 4,
  "nbformat_minor": 0,
  "metadata": {
    "colab": {
      "name": "chap03_3.ipynb",
      "provenance": [],
      "collapsed_sections": [],
      "authorship_tag": "ABX9TyODxtlDv1vs0K+0oEqulycw",
      "include_colab_link": true
    },
    "kernelspec": {
      "name": "python3",
      "display_name": "Python 3"
    },
    "language_info": {
      "name": "python"
    }
  },
  "cells": [
    {
      "cell_type": "markdown",
      "metadata": {
        "id": "view-in-github",
        "colab_type": "text"
      },
      "source": [
        "<a href=\"https://colab.research.google.com/github/younglaecho/learn_machine_learning/blob/main/chap03_3.ipynb\" target=\"_parent\"><img src=\"https://colab.research.google.com/assets/colab-badge.svg\" alt=\"Open In Colab\"/></a>"
      ]
    },
    {
      "cell_type": "markdown",
      "source": [
        "## 다중회귀\n",
        "여러 개의 특성을 사용한 회귀를 다중 회귀라고 합니다.<br>\n",
        "1개의 특성을 사용했을 때 선형 회귀 모델이 학습하는 것은 직선이지만, 2개의 특성을 사용하면 평면을 학습합니다.<br>\n",
        "농어의 길이, 농어의 높이, 농어의 두께를 사용하면, 특성이 3개가 됩니다.<br>\n",
        "특성이 3개가 되면 우리가 직관적으로 상상할 수 없습니다.<br>\n",
        "특성이 많아질수록 선형 회귀는 더 복잡한 모델을 표현할 수 있습니다.<br>\n",
        "특성의 값을 조합하여, 예를 들면 농어길이 x 농어높이, 새로운 특성을 뽑아내는 것을 **특성 공학**이라고 합니다."
      ],
      "metadata": {
        "id": "j4sFvhZ5J__B"
      }
    },
    {
      "cell_type": "code",
      "execution_count": 2,
      "metadata": {
        "id": "QsgdG85xG-4d"
      },
      "outputs": [],
      "source": [
        "import pandas as pd\n",
        "df = pd.read_csv('https://bit.ly/perch_csv_data')\n",
        "perch_full = df.to_numpy()\n",
        "\n",
        "import numpy as np\n",
        "\n",
        "perch_weight = np.array([5.9, 32.0, 40.0, 51.5, 70.0, 100.0, 78.0, 80.0, 85.0, 85.0, 110.0,\n",
        "       115.0, 125.0, 130.0, 120.0, 120.0, 130.0, 135.0, 110.0, 130.0,\n",
        "       150.0, 145.0, 150.0, 170.0, 225.0, 145.0, 188.0, 180.0, 197.0,\n",
        "       218.0, 300.0, 260.0, 265.0, 250.0, 250.0, 300.0, 320.0, 514.0,\n",
        "       556.0, 840.0, 685.0, 700.0, 700.0, 690.0, 900.0, 650.0, 820.0,\n",
        "       850.0, 900.0, 1015.0, 820.0, 1100.0, 1000.0, 1100.0, 1000.0,\n",
        "       1000.0])"
      ]
    },
    {
      "cell_type": "code",
      "source": [
        "from sklearn.model_selection import train_test_split\n",
        "\n",
        "train_input, test_input, train_target, test_target = train_test_split(perch_full, perch_weight, random_state=42)"
      ],
      "metadata": {
        "id": "OhuETA4LJRi-"
      },
      "execution_count": 3,
      "outputs": []
    },
    {
      "cell_type": "markdown",
      "source": [
        "### 사이킷런의 변환기\n",
        "특성을 만들거나 전처리하기 위한 클래스"
      ],
      "metadata": {
        "id": "qQPSTdijLacx"
      }
    },
    {
      "cell_type": "code",
      "source": [
        "from sklearn.preprocessing import PolynomialFeatures\n",
        "\n",
        "poly = PolynomialFeatures()\n",
        "poly.fit([[1, 2]])\n",
        "print(poly.transform([[2,3]]))"
      ],
      "metadata": {
        "colab": {
          "base_uri": "https://localhost:8080/"
        },
        "id": "8ywNAWlKK8Ka",
        "outputId": "827c3e7d-5a19-4215-96df-870874a5e99a"
      },
      "execution_count": 12,
      "outputs": [
        {
          "output_type": "stream",
          "name": "stdout",
          "text": [
            "[[1. 2. 3. 4. 6. 9.]]\n"
          ]
        }
      ]
    },
    {
      "cell_type": "markdown",
      "source": [
        "PolynomialFeatures는 특성을 늘려주는 변환기로, 특성 끼리 곱한값, 각특성을 제곱한 값이 들어간다.<br>\n",
        "추가적으로 절편에 대한 계수로 1이 들어가는데 이 부분은 include_bias로 빼주는게 좋다. <br>\n",
        "sklearn의 선형회귀에서는 절편을 자동으로 추가하기때문이다.\n",
        "$$무게 = a × 길이 + b × 높이 + c × 두께 + d × 1 $$\n"
      ],
      "metadata": {
        "id": "aprYYaSTNKmV"
      }
    },
    {
      "cell_type": "code",
      "source": [
        "from sklearn.preprocessing import PolynomialFeatures\n",
        "\n",
        "poly = PolynomialFeatures(include_bias=False)\n",
        "poly.fit([[1, 2]])\n",
        "print(poly.transform([[2,3]]))"
      ],
      "metadata": {
        "colab": {
          "base_uri": "https://localhost:8080/"
        },
        "id": "A5AbUxCANvL6",
        "outputId": "84c1b023-5c50-4077-b572-dc614b088167"
      },
      "execution_count": 13,
      "outputs": [
        {
          "output_type": "stream",
          "name": "stdout",
          "text": [
            "[[2. 3. 4. 6. 9.]]\n"
          ]
        }
      ]
    },
    {
      "cell_type": "code",
      "source": [
        "poly = PolynomialFeatures(include_bias=False)\n",
        "poly.fit(train_input)\n",
        "train_poly = poly.transform(train_input)\n",
        "print(train_poly.shape)\n",
        "poly.get_feature_names()"
      ],
      "metadata": {
        "colab": {
          "base_uri": "https://localhost:8080/"
        },
        "id": "hGVUzwksN0ow",
        "outputId": "459cc0b2-b047-4a35-a913-3f74d5ae28a7"
      },
      "execution_count": 16,
      "outputs": [
        {
          "output_type": "stream",
          "name": "stdout",
          "text": [
            "(42, 9)\n"
          ]
        },
        {
          "output_type": "stream",
          "name": "stderr",
          "text": [
            "/usr/local/lib/python3.7/dist-packages/sklearn/utils/deprecation.py:87: FutureWarning: Function get_feature_names is deprecated; get_feature_names is deprecated in 1.0 and will be removed in 1.2. Please use get_feature_names_out instead.\n",
            "  warnings.warn(msg, category=FutureWarning)\n"
          ]
        },
        {
          "output_type": "execute_result",
          "data": {
            "text/plain": [
              "['x0', 'x1', 'x2', 'x0^2', 'x0 x1', 'x0 x2', 'x1^2', 'x1 x2', 'x2^2']"
            ]
          },
          "metadata": {},
          "execution_count": 16
        }
      ]
    },
    {
      "cell_type": "markdown",
      "source": [
        "poly.get_feature_names를 통해 특성공학으로 얻어진 특성들이 무엇인지 확인해볼 수 있다.\n",
        "아래에선 테스트세트 또한 특성을 늘려주었습니다."
      ],
      "metadata": {
        "id": "1-jJKEdoORXK"
      }
    },
    {
      "cell_type": "code",
      "source": [
        "test_poly = poly.transform(test_input)"
      ],
      "metadata": {
        "id": "zZsEl5RyOJOz"
      },
      "execution_count": 18,
      "outputs": []
    },
    {
      "cell_type": "markdown",
      "source": [
        "다중회귀 모델을 훈련하는 것은 선형 회귀 모델을 훈련하는 것과 같습니다."
      ],
      "metadata": {
        "id": "wtkZIiONOlXF"
      }
    },
    {
      "cell_type": "code",
      "source": [
        "from sklearn.linear_model import LinearRegression\n",
        "lr = LinearRegression()\n",
        "lr.fit(train_poly, train_target)\n",
        "print(lr.score(train_poly, train_target))\n",
        "print(lr.score(test_poly, test_target))"
      ],
      "metadata": {
        "colab": {
          "base_uri": "https://localhost:8080/"
        },
        "id": "C_nG8A3tO1tA",
        "outputId": "6cd36117-72eb-44b6-9aad-df797c59b976"
      },
      "execution_count": 21,
      "outputs": [
        {
          "output_type": "stream",
          "name": "stdout",
          "text": [
            "0.9903183436982124\n",
            "0.9714559911594132\n"
          ]
        }
      ]
    },
    {
      "cell_type": "markdown",
      "source": [
        "특성을 5제곱까지 추가하면 어떻게 될까요? <br>\n",
        "특성을 추가하려면 PolynomialFeatures에 degree라는 매개변수를 조정하면됩니다."
      ],
      "metadata": {
        "id": "-N8X9fGfPC1A"
      }
    },
    {
      "cell_type": "code",
      "source": [
        "poly = PolynomialFeatures(degree=5, include_bias=False)\n",
        "poly.fit(train_input)\n",
        "train_poly = poly.transform(train_input)\n",
        "test_poly = poly.transform(test_input)\n",
        "print(train_poly.shape)"
      ],
      "metadata": {
        "colab": {
          "base_uri": "https://localhost:8080/"
        },
        "id": "2URp4kyzPnFG",
        "outputId": "02b040f1-f4cc-4954-83f4-6738128673c2"
      },
      "execution_count": 22,
      "outputs": [
        {
          "output_type": "stream",
          "name": "stdout",
          "text": [
            "(42, 55)\n"
          ]
        }
      ]
    },
    {
      "cell_type": "markdown",
      "source": [
        "특성이 무려 55개나 되는것을 확인할 수 있습니다."
      ],
      "metadata": {
        "id": "MUZVYIQ5P-9V"
      }
    },
    {
      "cell_type": "code",
      "source": [
        "lr.fit(train_poly, train_target)\n",
        "\n",
        "print(lr.score(train_poly, train_target))\n",
        "print(lr.score(test_poly, test_target))"
      ],
      "metadata": {
        "colab": {
          "base_uri": "https://localhost:8080/"
        },
        "id": "DKEc16QmQBxp",
        "outputId": "09c4c611-f01b-413e-e62d-f376065a82cc"
      },
      "execution_count": 23,
      "outputs": [
        {
          "output_type": "stream",
          "name": "stdout",
          "text": [
            "0.9999999999991096\n",
            "-144.40579242335605\n"
          ]
        }
      ]
    },
    {
      "cell_type": "markdown",
      "source": [
        "엄청나게 과대적합된 결과를 확인할 수 있습니다. <br>\n",
        "샘플의 개수보다 특성이 더 많다면 심각하게 과대적합이 됩니다.<br>\n",
        "**규제**를 통해 이를해결해보겠습니다."
      ],
      "metadata": {
        "id": "MblHxJpSQNVR"
      }
    },
    {
      "cell_type": "markdown",
      "source": [
        "## 규제"
      ],
      "metadata": {
        "id": "Bs2AElesRJiV"
      }
    },
    {
      "cell_type": "markdown",
      "source": [
        "일반적으로 선형 회귀 모델에 규제를 적용할 때 계수 값의 스케일이 서로 많이 다르면 공정하게 제어되지 않을 가능성이 큽니다. <br>\n",
        "따라서 정규화가 필요합니다. 이를 위해 StandardScaler라는 변환기 클래스를 사용하겠습니다."
      ],
      "metadata": {
        "id": "ktDUaITXRXXx"
      }
    },
    {
      "cell_type": "code",
      "source": [
        "from sklearn.preprocessing import StandardScaler\n",
        "ss= StandardScaler()\n",
        "ss.fit(train_poly)\n",
        "train_scaled = ss.transform(train_poly)\n",
        "test_scaled = ss.transform(test_poly)"
      ],
      "metadata": {
        "id": "2l6X-0rrRKxW"
      },
      "execution_count": 25,
      "outputs": []
    },
    {
      "cell_type": "markdown",
      "source": [
        "선형 회귀에 규제를 추가한 모델에는 릿지와 라쏘가 있습니다.<br>\n",
        "릿지 : 계수를 제곱한 값을 기준으로 규제를 적용<br>\n",
        "라쏘 : 계수의 절댓값을 기준으로 규제를 적용"
      ],
      "metadata": {
        "id": "xTjSHcQrTDlR"
      }
    },
    {
      "cell_type": "markdown",
      "source": [
        "## 릿지 회귀"
      ],
      "metadata": {
        "id": "RSnh3YvMTfW0"
      }
    },
    {
      "cell_type": "code",
      "source": [
        "from sklearn.linear_model import Ridge\n",
        "ridge = Ridge()\n",
        "ridge.fit(train_scaled, train_target)\n",
        "print(ridge.score(train_scaled, train_target))\n",
        "print(ridge.score(test_scaled, test_target))"
      ],
      "metadata": {
        "colab": {
          "base_uri": "https://localhost:8080/"
        },
        "id": "_G8_iX_0ThQ8",
        "outputId": "1517a8d9-5071-48ee-eb32-6a271797117d"
      },
      "execution_count": 31,
      "outputs": [
        {
          "output_type": "stream",
          "name": "stdout",
          "text": [
            "0.9896101671037343\n",
            "0.9790693977615397\n"
          ]
        }
      ]
    },
    {
      "cell_type": "markdown",
      "source": [
        "특성의 개수는 여전히 많지만 규제를 통해 과대적합되지 않을 결과를 보여주고 있습니다.<br"
      ],
      "metadata": {
        "id": "dm2ZWhx9TmEq"
      }
    },
    {
      "cell_type": "markdown",
      "source": [
        "릿지와 라쏘 모델을 사용할 때 규제의 양을 임의로 조절할 수도 있습니다.<br>\n",
        "alpha라는 매개변수를 통해 규제의 강도를 조절해보겠습니다.<br>\n",
        "적절한 alpha값을 찾는 방법은 alpha 값에 대한 표준점수를 그래프로 그려보는 것입니다."
      ],
      "metadata": {
        "id": "9HXfMJGCUCyG"
      }
    },
    {
      "cell_type": "code",
      "source": [
        "import matplotlib.pyplot as plt\n",
        "train_score = []\n",
        "test_score = []\n",
        "\n",
        "alpha_list = [0.001, 0.01, 0.1, 10, 100]\n",
        "for alpha in alpha_list:\n",
        "  ridge = Ridge(alpha = alpha)\n",
        "  ridge.fit(train_scaled, train_target)\n",
        "  train_score.append(ridge.score(train_scaled, train_target))\n",
        "  test_score.append(ridge.score(test_scaled, test_target))"
      ],
      "metadata": {
        "id": "_O-GHdp0UmhD"
      },
      "execution_count": 33,
      "outputs": []
    },
    {
      "cell_type": "code",
      "source": [
        "plt.plot(np.log10(alpha_list), train_score)\n",
        "plt.plot(np.log10(alpha_list), test_score)"
      ],
      "metadata": {
        "colab": {
          "base_uri": "https://localhost:8080/",
          "height": 282
        },
        "id": "idfyFQRoVdfI",
        "outputId": "753b0b45-3e4b-44e5-e063-755415603f94"
      },
      "execution_count": 34,
      "outputs": [
        {
          "output_type": "execute_result",
          "data": {
            "text/plain": [
              "[<matplotlib.lines.Line2D at 0x7f35d107f2d0>]"
            ]
          },
          "metadata": {},
          "execution_count": 34
        },
        {
          "output_type": "display_data",
          "data": {
            "image/png": "[encoded data removed]",
            "text/plain": [
              "<Figure size 432x288 with 1 Axes>"
            ]
          },
          "metadata": {
            "needs_background": "light"
          }
        }
      ]
    },
    {
      "cell_type": "markdown",
      "source": [
        "규제의 강도를 0.1로 하는 것이 가장 적합하다는 것을 확인할 수 있습니다."
      ],
      "metadata": {
        "id": "jSSxLOKbWDv8"
      }
    },
    {
      "cell_type": "code",
      "source": [
        "ridge = Ridge(alpha=0.1)\n",
        "ridge.fit(train_scaled, train_target)\n",
        "print(ridge.score(train_scaled, train_target))\n",
        "print(ridge.score(test_scaled, test_target))"
      ],
      "metadata": {
        "colab": {
          "base_uri": "https://localhost:8080/"
        },
        "id": "EA6vxjc-Wk-Q",
        "outputId": "618cb7b4-f583-4bb3-c022-c270d4178ce0"
      },
      "execution_count": 35,
      "outputs": [
        {
          "output_type": "stream",
          "name": "stdout",
          "text": [
            "0.9903815817570366\n",
            "0.9827976465386927\n"
          ]
        }
      ]
    },
    {
      "cell_type": "markdown",
      "source": [
        "## 라쏘회귀\n"
      ],
      "metadata": {
        "id": "LQ9GuncVW63y"
      }
    },
    {
      "cell_type": "code",
      "source": [
        "from sklearn.linear_model import Lasso\n",
        "lasso = Lasso()\n",
        "lasso.fit(train_scaled, train_target)\n",
        "print(lasso.score(train_scaled, train_target))\n",
        "print(lasso.score(test_scaled, test_target))"
      ],
      "metadata": {
        "colab": {
          "base_uri": "https://localhost:8080/"
        },
        "id": "Hwz8CHaDW-fB",
        "outputId": "1baaacee-34d9-4c79-91f8-4ddaceb151d4"
      },
      "execution_count": 37,
      "outputs": [
        {
          "output_type": "stream",
          "name": "stdout",
          "text": [
            "0.989789897208096\n",
            "0.9800593698421883\n"
          ]
        }
      ]
    },
    {
      "cell_type": "code",
      "source": [
        "import matplotlib.pyplot as plt\n",
        "train_score = []\n",
        "test_score = []\n",
        "\n",
        "alpha_list = [0.001, 0.01, 0.1, 10, 100]\n",
        "for alpha in alpha_list:\n",
        "  lasso = Lasso(alpha = alpha, max_iter=10000)\n",
        "  lasso.fit(train_scaled, train_target)\n",
        "  train_score.append(lasso.score(train_scaled, train_target))\n",
        "  test_score.append(lasso.score(test_scaled, test_target))"
      ],
      "metadata": {
        "colab": {
          "base_uri": "https://localhost:8080/"
        },
        "id": "oHaIPmFoXUeV",
        "outputId": "f415e292-1cba-4a98-b952-b341f6c21327"
      },
      "execution_count": 39,
      "outputs": [
        {
          "output_type": "stream",
          "name": "stderr",
          "text": [
            "/usr/local/lib/python3.7/dist-packages/sklearn/linear_model/_coordinate_descent.py:648: ConvergenceWarning: Objective did not converge. You might want to increase the number of iterations, check the scale of the features or consider increasing regularisation. Duality gap: 1.878e+04, tolerance: 5.183e+02\n",
            "  coef_, l1_reg, l2_reg, X, y, max_iter, tol, rng, random, positive\n",
            "/usr/local/lib/python3.7/dist-packages/sklearn/linear_model/_coordinate_descent.py:648: ConvergenceWarning: Objective did not converge. You might want to increase the number of iterations, check the scale of the features or consider increasing regularisation. Duality gap: 1.297e+04, tolerance: 5.183e+02\n",
            "  coef_, l1_reg, l2_reg, X, y, max_iter, tol, rng, random, positive\n"
          ]
        }
      ]
    },
    {
      "cell_type": "markdown",
      "source": [
        "지정한 반복횟수가 부족할 때 뜨는 경고 있니다. max_iter를 통해 반복횟수를 늘려야만 해결되지만, 큰 문제가 되지는 않아 그냥 두겠습니다."
      ],
      "metadata": {
        "id": "1bjyYU9sYXdN"
      }
    },
    {
      "cell_type": "code",
      "source": [
        "plt.plot(np.log10(alpha_list), train_score)\n",
        "plt.plot(np.log10(alpha_list), test_score)"
      ],
      "metadata": {
        "colab": {
          "base_uri": "https://localhost:8080/",
          "height": 282
        },
        "id": "uPLIZkZEX6PA",
        "outputId": "907db577-c436-4773-9dde-7a54b9ca64e7"
      },
      "execution_count": 41,
      "outputs": [
        {
          "output_type": "execute_result",
          "data": {
            "text/plain": [
              "[<matplotlib.lines.Line2D at 0x7f35d0f1d1d0>]"
            ]
          },
          "metadata": {},
          "execution_count": 41
        },
        {
          "output_type": "display_data",
          "data": {
            "image/png": "[encoded data removed]",
            "text/plain": [
              "<Figure size 432x288 with 1 Axes>"
            ]
          },
          "metadata": {
            "needs_background": "light"
          }
        }
      ]
    },
    {
      "cell_type": "markdown",
      "source": [
        "alpha가 10일 때, 가장 적합한 것으로 확인할 수 있습니다."
      ],
      "metadata": {
        "id": "w8i0vazQYFFm"
      }
    },
    {
      "cell_type": "code",
      "source": [
        "lasso = Lasso(alpha=10)\n",
        "lasso.fit(train_scaled, train_target)\n",
        "print(lasso.score(train_scaled, train_target))\n",
        "print(lasso.score(test_scaled, test_target))"
      ],
      "metadata": {
        "colab": {
          "base_uri": "https://localhost:8080/"
        },
        "id": "Q0NpcbZHYzIQ",
        "outputId": "71ed30de-bf98-4afb-b710-031c8216c868"
      },
      "execution_count": 42,
      "outputs": [
        {
          "output_type": "stream",
          "name": "stdout",
          "text": [
            "0.9888067471131867\n",
            "0.9824470598706695\n"
          ]
        }
      ]
    },
    {
      "cell_type": "markdown",
      "source": [
        "계수가 0이 된 특성을 모두 찾아보겠습니다."
      ],
      "metadata": {
        "id": "RFXSF0CgZC7T"
      }
    },
    {
      "cell_type": "code",
      "source": [
        "print(np.sum(lasso.coef_ == 0))"
      ],
      "metadata": {
        "colab": {
          "base_uri": "https://localhost:8080/"
        },
        "id": "KnUh0sjYZW4g",
        "outputId": "210e57f2-4918-4a67-8b29-9c24aead6100"
      },
      "execution_count": 43,
      "outputs": [
        {
          "output_type": "stream",
          "name": "stdout",
          "text": [
            "40\n"
          ]
        }
      ]
    },
    {
      "cell_type": "markdown",
      "source": [
        "계수가 0인 특성이 40개나 되어서, 특성이 15개로 줄어버린 것을 확인할 수 있습니다. <br>\n"
      ],
      "metadata": {
        "id": "fAE64L1gZbjr"
      }
    },
    {
      "cell_type": "code",
      "source": [
        ""
      ],
      "metadata": {
        "id": "LiXV8hcKhej4"
      },
      "execution_count": null,
      "outputs": []
    }
  ]
}